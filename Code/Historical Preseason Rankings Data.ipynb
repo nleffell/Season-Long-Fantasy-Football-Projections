{
 "cells": [
  {
   "cell_type": "code",
   "execution_count": 2,
   "id": "0355cce8",
   "metadata": {},
   "outputs": [],
   "source": [
    "import pandas as pd\n",
    "import numpy as np\n",
    "import requests as re\n",
    "from bs4 import BeautifulSoup"
   ]
  },
  {
   "cell_type": "code",
   "execution_count": 3,
   "id": "dc67d2bc",
   "metadata": {},
   "outputs": [],
   "source": [
    "def clean_name_col(df, cols, string):\n",
    "    df = df[cols]\n",
    "    df = df[df[cols[1]].notna()]\n",
    "    df['Player'] = df[cols[1]].map(lambda x: x.split()[0] +' ' + x.split()[2] + ' ' + string[:4] if len(x.split()) > 2 else x)\n",
    "    if string[:4] in ['2017', '2016', '2015', '2014']:\n",
    "        df['Player'] = df[cols[1]].map(lambda x: x.split()[0] +' ' + x.split()[1] + ' ' + string[:4] if len(x.split()) > 2 else x)\n",
    "    df['Player'] = df['Player'].map(lambda x: ''.join(i for i in x if i.isalnum() or i == ' '))\n",
    "    df.drop(columns=[cols[1]], inplace=True)\n",
    "    return df\n",
    "\n",
    "\n",
    "def get_preseason_fantasy_rankings(url_strings):\n",
    "    yearly_list = []\n",
    "    for string in url_strings:\n",
    "        r = re.get(f'https://web.archive.org/web/{string}/https://www.fantasypros.com/nfl/rankings/ppr-cheatsheets.php')\n",
    "        soup = BeautifulSoup(r.content, 'html.parser')\n",
    "        table = soup.find_all('table')[0] \n",
    "        if string[:4] in ['2014', '2015']:\n",
    "            table = soup.find_all('table')[1]\n",
    "        df = pd.read_html(str(table))[0]         \n",
    "        \n",
    "        if string[:4] == '2014':\n",
    "            cols = ['Rank', 'Player (team/bye)', 'Best', 'Worst', 'Ave', 'Std Dev', 'ADP']\n",
    "            df = clean_name_col(df, cols, string)\n",
    "        elif string[:4] == '2015':\n",
    "            cols = ['Rank', 'Player (team, bye)', 'Best', 'Worst', 'Avg', 'Std Dev', 'ADP']\n",
    "            df = clean_name_col(df, cols, string)\n",
    "        elif string[:4] in ['2016', '2017']:\n",
    "            cols = ['Rank', 'Player (Team)', 'Best', 'Worst', 'Avg', 'Std Dev', 'ADP']\n",
    "            df = clean_name_col(df, cols, string)            \n",
    "        else:\n",
    "            cols = ['Rank', 'Overall (Team)', 'Best', 'Worst', 'Avg', 'Std Dev', 'ADP']\n",
    "            df = clean_name_col(df, cols, string)\n",
    "        yearly_list.append(df)\n",
    "    df = pd.concat(yearly_list)\n",
    "    df['Avg'] = df['Avg'].fillna('test')\n",
    "    df['Avg'] = df.apply(lambda x: x['Ave'] if x['Avg'] == 'test' else x['Avg'], axis=1)\n",
    "    df.rename(columns={'Avg':'Avg_Preseason_Rank'}, inplace=True)\n",
    "    df.drop(columns='Ave', inplace=True)\n",
    "    return df"
   ]
  },
  {
   "cell_type": "code",
   "execution_count": 4,
   "id": "ad1ac8b5",
   "metadata": {},
   "outputs": [],
   "source": [
    "url_strings = ['20190903180912', '20180903165223', '20170904024425', '20160902165621', '20150901081121', '20140903025545']\n",
    "df = get_preseason_fantasy_rankings(url_strings)"
   ]
  },
  {
   "cell_type": "code",
   "execution_count": 5,
   "id": "5572a4df",
   "metadata": {},
   "outputs": [
    {
     "data": {
      "text/html": [
       "<div>\n",
       "<style scoped>\n",
       "    .dataframe tbody tr th:only-of-type {\n",
       "        vertical-align: middle;\n",
       "    }\n",
       "\n",
       "    .dataframe tbody tr th {\n",
       "        vertical-align: top;\n",
       "    }\n",
       "\n",
       "    .dataframe thead th {\n",
       "        text-align: right;\n",
       "    }\n",
       "</style>\n",
       "<table border=\"1\" class=\"dataframe\">\n",
       "  <thead>\n",
       "    <tr style=\"text-align: right;\">\n",
       "      <th></th>\n",
       "      <th>Rank</th>\n",
       "      <th>Best</th>\n",
       "      <th>Worst</th>\n",
       "      <th>Avg_Preseason_Rank</th>\n",
       "      <th>Std Dev</th>\n",
       "      <th>ADP</th>\n",
       "      <th>Player</th>\n",
       "    </tr>\n",
       "  </thead>\n",
       "  <tbody>\n",
       "    <tr>\n",
       "      <th>1</th>\n",
       "      <td>1</td>\n",
       "      <td>1</td>\n",
       "      <td>5</td>\n",
       "      <td>1.6</td>\n",
       "      <td>0.9</td>\n",
       "      <td>1.0</td>\n",
       "      <td>Saquon Barkley 2019</td>\n",
       "    </tr>\n",
       "    <tr>\n",
       "      <th>2</th>\n",
       "      <td>2</td>\n",
       "      <td>1</td>\n",
       "      <td>8</td>\n",
       "      <td>2.3</td>\n",
       "      <td>1.3</td>\n",
       "      <td>2.0</td>\n",
       "      <td>Christian McCaffrey 2019</td>\n",
       "    </tr>\n",
       "    <tr>\n",
       "      <th>3</th>\n",
       "      <td>3</td>\n",
       "      <td>1</td>\n",
       "      <td>13</td>\n",
       "      <td>3.0</td>\n",
       "      <td>1.4</td>\n",
       "      <td>3.0</td>\n",
       "      <td>Alvin Kamara 2019</td>\n",
       "    </tr>\n",
       "    <tr>\n",
       "      <th>4</th>\n",
       "      <td>4</td>\n",
       "      <td>4</td>\n",
       "      <td>12</td>\n",
       "      <td>6.0</td>\n",
       "      <td>1.4</td>\n",
       "      <td>5.0</td>\n",
       "      <td>DeAndre Hopkins 2019</td>\n",
       "    </tr>\n",
       "    <tr>\n",
       "      <th>6</th>\n",
       "      <td>5</td>\n",
       "      <td>4</td>\n",
       "      <td>22</td>\n",
       "      <td>6.3</td>\n",
       "      <td>3.0</td>\n",
       "      <td>8.0</td>\n",
       "      <td>Davante Adams 2019</td>\n",
       "    </tr>\n",
       "  </tbody>\n",
       "</table>\n",
       "</div>"
      ],
      "text/plain": [
       "  Rank Best Worst Avg_Preseason_Rank Std Dev  ADP                    Player\n",
       "1    1    1     5                1.6     0.9  1.0       Saquon Barkley 2019\n",
       "2    2    1     8                2.3     1.3  2.0  Christian McCaffrey 2019\n",
       "3    3    1    13                3.0     1.4  3.0         Alvin Kamara 2019\n",
       "4    4    4    12                6.0     1.4  5.0      DeAndre Hopkins 2019\n",
       "6    5    4    22                6.3     3.0  8.0        Davante Adams 2019"
      ]
     },
     "execution_count": 5,
     "metadata": {},
     "output_type": "execute_result"
    }
   ],
   "source": [
    "df.head()"
   ]
  },
  {
   "cell_type": "code",
   "execution_count": 6,
   "id": "da5149df",
   "metadata": {},
   "outputs": [],
   "source": [
    "#drop unecessary columns\n",
    "df = df.drop(columns=['Rank', 'Best', 'Worst', 'Std Dev', 'ADP'])"
   ]
  },
  {
   "cell_type": "code",
   "execution_count": 7,
   "id": "eabd9632",
   "metadata": {
    "scrolled": true
   },
   "outputs": [
    {
     "data": {
      "text/html": [
       "<div>\n",
       "<style scoped>\n",
       "    .dataframe tbody tr th:only-of-type {\n",
       "        vertical-align: middle;\n",
       "    }\n",
       "\n",
       "    .dataframe tbody tr th {\n",
       "        vertical-align: top;\n",
       "    }\n",
       "\n",
       "    .dataframe thead th {\n",
       "        text-align: right;\n",
       "    }\n",
       "</style>\n",
       "<table border=\"1\" class=\"dataframe\">\n",
       "  <thead>\n",
       "    <tr style=\"text-align: right;\">\n",
       "      <th></th>\n",
       "      <th>Avg_Preseason_Rank</th>\n",
       "      <th>Player</th>\n",
       "    </tr>\n",
       "  </thead>\n",
       "  <tbody>\n",
       "    <tr>\n",
       "      <th>16</th>\n",
       "      <td>14.0</td>\n",
       "      <td>LeVeon Bell 2019</td>\n",
       "    </tr>\n",
       "    <tr>\n",
       "      <th>2</th>\n",
       "      <td>2.4</td>\n",
       "      <td>LeVeon Bell 2018</td>\n",
       "    </tr>\n",
       "    <tr>\n",
       "      <th>2</th>\n",
       "      <td>1.8</td>\n",
       "      <td>LeVeon Bell 2017</td>\n",
       "    </tr>\n",
       "    <tr>\n",
       "      <th>18</th>\n",
       "      <td>18.5</td>\n",
       "      <td>LeVeon Bell 2016</td>\n",
       "    </tr>\n",
       "    <tr>\n",
       "      <th>0</th>\n",
       "      <td>2.6</td>\n",
       "      <td>LeVeon Bell 2015</td>\n",
       "    </tr>\n",
       "    <tr>\n",
       "      <th>20</th>\n",
       "      <td>24.3</td>\n",
       "      <td>LeVeon Bell 2014</td>\n",
       "    </tr>\n",
       "  </tbody>\n",
       "</table>\n",
       "</div>"
      ],
      "text/plain": [
       "   Avg_Preseason_Rank            Player\n",
       "16               14.0  LeVeon Bell 2019\n",
       "2                 2.4  LeVeon Bell 2018\n",
       "2                 1.8  LeVeon Bell 2017\n",
       "18               18.5  LeVeon Bell 2016\n",
       "0                 2.6  LeVeon Bell 2015\n",
       "20               24.3  LeVeon Bell 2014"
      ]
     },
     "execution_count": 7,
     "metadata": {},
     "output_type": "execute_result"
    }
   ],
   "source": [
    "df[df['Player'].str.contains(\"LeVeon Bell\")] #checking a player who originally had an apostrophe in their name"
   ]
  },
  {
   "cell_type": "code",
   "execution_count": 11,
   "id": "127a99bc",
   "metadata": {},
   "outputs": [
    {
     "data": {
      "text/html": [
       "<div>\n",
       "<style scoped>\n",
       "    .dataframe tbody tr th:only-of-type {\n",
       "        vertical-align: middle;\n",
       "    }\n",
       "\n",
       "    .dataframe tbody tr th {\n",
       "        vertical-align: top;\n",
       "    }\n",
       "\n",
       "    .dataframe thead th {\n",
       "        text-align: right;\n",
       "    }\n",
       "</style>\n",
       "<table border=\"1\" class=\"dataframe\">\n",
       "  <thead>\n",
       "    <tr style=\"text-align: right;\">\n",
       "      <th></th>\n",
       "      <th>Avg_Preseason_Rank</th>\n",
       "      <th>Player</th>\n",
       "    </tr>\n",
       "  </thead>\n",
       "  <tbody>\n",
       "    <tr>\n",
       "      <th>179</th>\n",
       "      <td>177.8</td>\n",
       "      <td>Mike Davis 2019</td>\n",
       "    </tr>\n",
       "  </tbody>\n",
       "</table>\n",
       "</div>"
      ],
      "text/plain": [
       "    Avg_Preseason_Rank           Player\n",
       "179              177.8  Mike Davis 2019"
      ]
     },
     "execution_count": 11,
     "metadata": {},
     "output_type": "execute_result"
    }
   ],
   "source": [
    "#There are two mike davis' so we need to remove the second and irrelevant one.\n",
    "df = df.drop_duplicates(subset='Player')\n",
    "df[df['Player']=='Mike Davis 2019']"
   ]
  },
  {
   "cell_type": "code",
   "execution_count": 12,
   "id": "36bd2884",
   "metadata": {},
   "outputs": [],
   "source": [
    "df.to_csv('preseason_rankings.csv', index=False)"
   ]
  }
 ],
 "metadata": {
  "kernelspec": {
   "display_name": "Python 3 (ipykernel)",
   "language": "python",
   "name": "python3"
  },
  "language_info": {
   "codemirror_mode": {
    "name": "ipython",
    "version": 3
   },
   "file_extension": ".py",
   "mimetype": "text/x-python",
   "name": "python",
   "nbconvert_exporter": "python",
   "pygments_lexer": "ipython3",
   "version": "3.9.6"
  }
 },
 "nbformat": 4,
 "nbformat_minor": 5
}
