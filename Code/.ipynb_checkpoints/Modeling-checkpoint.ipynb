{
 "cells": [
  {
   "cell_type": "markdown",
   "id": "a6e65d36",
   "metadata": {},
   "source": [
    "##### Modeling"
   ]
  },
  {
   "cell_type": "code",
   "execution_count": 1,
   "id": "77665897",
   "metadata": {},
   "outputs": [],
   "source": [
    "import pandas as pd\n",
    "import numpy as np\n",
    "import matplotlib.pyplot as plt\n",
    "import seaborn as sns\n",
    "\n",
    "from sklearn.model_selection import train_test_split, RandomizedSearchCV\n",
    "from sklearn.pipeline import Pipeline\n",
    "\n",
    "from sklearn.linear_model import LinearRegression\n",
    "from sklearn.tree import DecisionTreeRegressor\n",
    "from sklearn.ensemble import GradientBoostingRegressor, VotingRegressor, RandomForestRegressor\n",
    "\n",
    "from sklearn import metrics\n",
    "from scipy.stats import uniform, loguniform\n",
    "\n",
    "#neural network imports\n",
    "from sklearn.preprocessing import StandardScaler\n",
    "from tensorflow.keras.models import Sequential\n",
    "from tensorflow.keras.layers import Dense\n",
    "from tensorflow.keras.wrappers.scikit_learn import KerasRegressor\n",
    "from tensorflow.keras.layers import Dropout\n",
    "from tensorflow.keras.callbacks import EarlyStopping"
   ]
  },
  {
   "cell_type": "code",
   "execution_count": 2,
   "id": "81a7317a",
   "metadata": {},
   "outputs": [],
   "source": [
    "#load model ready data\n",
    "df = pd.read_csv('model_ready_data.csv')\n",
    "df = df.set_index('Player')"
   ]
  },
  {
   "cell_type": "code",
   "execution_count": 3,
   "id": "0073ce75",
   "metadata": {},
   "outputs": [],
   "source": [
    "X = df.drop(columns='Final_PPR_Score')\n",
    "X = pd.get_dummies(X, columns=['FantPos'], drop_first=True)\n",
    "y = df['Final_PPR_Score']\n",
    "X_train, X_test, y_train, y_test = train_test_split(X, y, random_state=7)"
   ]
  },
  {
   "cell_type": "code",
   "execution_count": 4,
   "id": "1e990288",
   "metadata": {},
   "outputs": [],
   "source": [
    "compare_models = pd.DataFrame()\n",
    "def add_results(model, title):\n",
    "    compare_models.loc[title, 'train_accuracy'] = round(model.best_estimator_.score(X_train, y_train), 4)\n",
    "    compare_models.loc[title, 'test_accuracy'] = round(model.best_estimator_.score(X_test, y_test), 4)\n",
    "    compare_models.loc[title, 'rmse'] = round(metrics.mean_squared_error(y_test, model.predict(X_test), squared=False), 2)\n",
    "    compare_models.loc[title, 'best_params'] = str(model.best_params_)"
   ]
  },
  {
   "cell_type": "markdown",
   "id": "ef58463e",
   "metadata": {},
   "source": [
    "### Linear Regression"
   ]
  },
  {
   "cell_type": "code",
   "execution_count": 6,
   "id": "793de105",
   "metadata": {},
   "outputs": [],
   "source": [
    "lr = LinearRegression()\n",
    "lr.fit(X_train, y_train)\n",
    "#add results manually\n",
    "compare_models.loc['Linear Regression', 'train_accuracy'] = round(lr.score(X_train, y_train), 4)\n",
    "compare_models.loc['Linear Regression', 'test_accuracy'] = round(lr.score(X_test, y_test), 4)\n",
    "compare_models.loc['Linear Regression', 'rmse'] = round(metrics.mean_squared_error(y_test, lr.predict(X_test), squared=False), 2)\n",
    "compare_models.loc['Linear Regression', 'best_params'] = 'N/A'"
   ]
  },
  {
   "cell_type": "code",
   "execution_count": 7,
   "id": "6a0906d7",
   "metadata": {},
   "outputs": [
    {
     "data": {
      "text/html": [
       "<div>\n",
       "<style scoped>\n",
       "    .dataframe tbody tr th:only-of-type {\n",
       "        vertical-align: middle;\n",
       "    }\n",
       "\n",
       "    .dataframe tbody tr th {\n",
       "        vertical-align: top;\n",
       "    }\n",
       "\n",
       "    .dataframe thead th {\n",
       "        text-align: right;\n",
       "    }\n",
       "</style>\n",
       "<table border=\"1\" class=\"dataframe\">\n",
       "  <thead>\n",
       "    <tr style=\"text-align: right;\">\n",
       "      <th></th>\n",
       "      <th>train_accuracy</th>\n",
       "      <th>test_accuracy</th>\n",
       "      <th>rmse</th>\n",
       "      <th>best_params</th>\n",
       "    </tr>\n",
       "  </thead>\n",
       "  <tbody>\n",
       "    <tr>\n",
       "      <th>Linear Regression</th>\n",
       "      <td>0.4937</td>\n",
       "      <td>0.504</td>\n",
       "      <td>62.34</td>\n",
       "      <td>N/A</td>\n",
       "    </tr>\n",
       "  </tbody>\n",
       "</table>\n",
       "</div>"
      ],
      "text/plain": [
       "                   train_accuracy  test_accuracy   rmse best_params\n",
       "Linear Regression          0.4937          0.504  62.34         N/A"
      ]
     },
     "execution_count": 7,
     "metadata": {},
     "output_type": "execute_result"
    }
   ],
   "source": [
    "compare_models"
   ]
  },
  {
   "cell_type": "markdown",
   "id": "05a2645f",
   "metadata": {},
   "source": [
    "**Decent results from a simple linear regression model. 50% of variance in fantasy points are explained by this model. Lets see if we can beat it with some different regressor models**"
   ]
  },
  {
   "cell_type": "markdown",
   "id": "413592b7",
   "metadata": {},
   "source": [
    "### Decision Tree Regressor"
   ]
  },
  {
   "cell_type": "code",
   "execution_count": 8,
   "id": "da0a1365",
   "metadata": {},
   "outputs": [
    {
     "name": "stdout",
     "output_type": "stream",
     "text": [
      "Fitting 5 folds for each of 50 candidates, totalling 250 fits\n"
     ]
    },
    {
     "name": "stderr",
     "output_type": "stream",
     "text": [
      "c:\\users\\nick\\appdata\\local\\programs\\python\\python39\\lib\\site-packages\\sklearn\\model_selection\\_search.py:922: UserWarning: One or more of the test scores are non-finite: [       nan        nan 0.38090577        nan 0.37798565 0.326812\n",
      " 0.326812   0.33257028 0.326812          nan 0.24054805 0.27335601\n",
      " 0.30971122 0.24495462 0.27335601 0.27136275        nan        nan\n",
      " 0.31408454        nan        nan        nan        nan        nan\n",
      " 0.24150504 0.35140643 0.33151894 0.24631083        nan        nan\n",
      "        nan 0.33007403        nan 0.35215959 0.27285624        nan\n",
      " 0.27292657        nan        nan        nan        nan        nan\n",
      "        nan 0.26253088 0.326812          nan        nan 0.38619041\n",
      " 0.35929536 0.37920883]\n",
      "  warnings.warn(\n"
     ]
    }
   ],
   "source": [
    "dt_params = {\n",
    "    'max_depth': uniform(1, 100),\n",
    "    'min_samples_split': uniform(0, 1),\n",
    "    'min_samples_leaf': uniform(0, 1)\n",
    "}\n",
    "\n",
    "dt = RandomizedSearchCV(DecisionTreeRegressor(),\n",
    "                        dt_params,\n",
    "                        n_iter=50,\n",
    "                        cv=5,\n",
    "                        n_jobs=-1,\n",
    "                        verbose=True,\n",
    "                        random_state=7)\n",
    "\n",
    "dt.fit(X_train, y_train)\n",
    "add_results(dt, 'Decision Tree')"
   ]
  },
  {
   "cell_type": "code",
   "execution_count": 9,
   "id": "c34d8f12",
   "metadata": {},
   "outputs": [
    {
     "data": {
      "text/html": [
       "<div>\n",
       "<style scoped>\n",
       "    .dataframe tbody tr th:only-of-type {\n",
       "        vertical-align: middle;\n",
       "    }\n",
       "\n",
       "    .dataframe tbody tr th {\n",
       "        vertical-align: top;\n",
       "    }\n",
       "\n",
       "    .dataframe thead th {\n",
       "        text-align: right;\n",
       "    }\n",
       "</style>\n",
       "<table border=\"1\" class=\"dataframe\">\n",
       "  <thead>\n",
       "    <tr style=\"text-align: right;\">\n",
       "      <th></th>\n",
       "      <th>train_accuracy</th>\n",
       "      <th>test_accuracy</th>\n",
       "      <th>rmse</th>\n",
       "      <th>best_params</th>\n",
       "    </tr>\n",
       "  </thead>\n",
       "  <tbody>\n",
       "    <tr>\n",
       "      <th>Linear Regression</th>\n",
       "      <td>0.4937</td>\n",
       "      <td>0.5040</td>\n",
       "      <td>62.34</td>\n",
       "      <td>N/A</td>\n",
       "    </tr>\n",
       "    <tr>\n",
       "      <th>Decision Tree</th>\n",
       "      <td>0.4419</td>\n",
       "      <td>0.4387</td>\n",
       "      <td>66.31</td>\n",
       "      <td>{'max_depth': 17.471665877901287, 'min_samples...</td>\n",
       "    </tr>\n",
       "  </tbody>\n",
       "</table>\n",
       "</div>"
      ],
      "text/plain": [
       "                   train_accuracy  test_accuracy   rmse  \\\n",
       "Linear Regression          0.4937         0.5040  62.34   \n",
       "Decision Tree              0.4419         0.4387  66.31   \n",
       "\n",
       "                                                         best_params  \n",
       "Linear Regression                                                N/A  \n",
       "Decision Tree      {'max_depth': 17.471665877901287, 'min_samples...  "
      ]
     },
     "execution_count": 9,
     "metadata": {},
     "output_type": "execute_result"
    }
   ],
   "source": [
    "compare_models"
   ]
  },
  {
   "cell_type": "markdown",
   "id": "6daf8cde",
   "metadata": {},
   "source": [
    "**Decision Tree Regressor was worse than our linear regression model in every metric. It is also slightly overfit**"
   ]
  },
  {
   "cell_type": "markdown",
   "id": "d738d240",
   "metadata": {},
   "source": [
    "### Gradient Boost Regressor"
   ]
  },
  {
   "cell_type": "code",
   "execution_count": 10,
   "id": "2b7d6e38",
   "metadata": {},
   "outputs": [
    {
     "name": "stdout",
     "output_type": "stream",
     "text": [
      "Fitting 5 folds for each of 200 candidates, totalling 1000 fits\n"
     ]
    },
    {
     "name": "stderr",
     "output_type": "stream",
     "text": [
      "c:\\users\\nick\\appdata\\local\\programs\\python\\python39\\lib\\site-packages\\sklearn\\model_selection\\_search.py:922: UserWarning: One or more of the test scores are non-finite: [             nan -2.02623334e+002              nan              nan\n",
      "              nan -1.02498103e+015              nan              nan\n",
      "              nan              nan              nan              nan\n",
      "              nan -1.12606992e-001 -2.83020241e-001              nan\n",
      "              nan              nan -5.35288572e-003              nan\n",
      "              nan -1.55559728e+277 -1.87319879e+030 -3.29774892e+029\n",
      "              nan  3.51308636e-001 -1.18637265e+025              nan\n",
      "              nan -6.86937975e+029 -4.39773613e-001              nan\n",
      " -4.20272693e+202              nan              nan              nan\n",
      " -6.79159645e+000              nan              nan             -inf\n",
      "             -inf -1.06685054e+021              nan -3.74422230e+025\n",
      " -4.39431540e+001              nan              nan              nan\n",
      "              nan -5.42145559e-001 -8.34575601e+002 -1.48137186e+002\n",
      " -1.10586922e+000 -1.64284873e+002 -1.13162672e+001              nan\n",
      "  3.72718886e-001              nan              nan -2.19407242e+028\n",
      "              nan              nan              nan              nan\n",
      " -9.65806348e+240              nan              nan -2.98323942e+243\n",
      "              nan -1.69947123e+020              nan              nan\n",
      " -2.69352243e+000              nan              nan              nan\n",
      "              nan              nan              nan              nan\n",
      " -4.61965684e+029 -1.57059756e+245 -5.70934447e+028              nan\n",
      " -5.04447170e-003 -6.37752491e-003 -2.06002926e+030              nan\n",
      "             -inf              nan              nan -4.75020823e+030\n",
      " -1.30179622e+020 -5.89725036e-003 -1.04012459e+010              nan\n",
      " -1.65214256e+016              nan              nan -3.05509474e+002\n",
      " -3.33228128e+000 -5.69625814e-003 -3.33206831e+100 -5.20538899e+129\n",
      " -1.63103526e+299              nan              nan              nan\n",
      "              nan              nan -9.71560377e-001              nan\n",
      " -3.27697034e+020 -7.81633460e+227 -1.01033168e+030              nan\n",
      "              nan              nan              nan              nan\n",
      " -3.26721492e+205              nan              nan             -inf\n",
      "              nan              nan              nan              nan\n",
      " -3.14108416e+196              nan -1.32134404e+299              nan\n",
      "              nan -1.33273803e+030              nan              nan\n",
      " -2.21942153e+002              nan -2.14068435e+000              nan\n",
      " -4.10921157e+028 -4.68367246e+001 -2.38715986e+264              nan\n",
      " -8.24808299e+284 -5.61189290e+010 -1.71532225e+294 -1.03442918e+030\n",
      "              nan              nan -3.70269806e+002             -inf\n",
      "              nan -2.58317675e-001 -1.48786046e+019 -1.12891247e+254\n",
      "              nan -4.19083188e+210 -7.00639182e+298              nan\n",
      "             -inf             -inf              nan              nan\n",
      " -4.83688758e+119              nan -8.87391631e+002              nan\n",
      " -2.96219413e+030              nan -4.44135661e+275 -2.03209192e+000\n",
      "              nan              nan -8.17073260e+013 -7.63772297e+030\n",
      " -2.67082747e+284 -2.64183057e+001              nan -2.21515396e+260\n",
      "              nan             -inf              nan -2.05340801e+002\n",
      "              nan              nan -8.38574330e+000              nan\n",
      " -2.77202191e+068 -8.16118603e+030 -7.65381408e+282              nan\n",
      "              nan              nan -1.15590697e+137 -8.78625131e+023\n",
      "              nan -7.58217345e+029 -1.62464757e+069 -4.41856337e+027]\n",
      "  warnings.warn(\n",
      "c:\\users\\nick\\appdata\\local\\programs\\python\\python39\\lib\\site-packages\\sklearn\\model_selection\\_search.py:929: RuntimeWarning: invalid value encountered in subtract\n",
      "  array_stds = np.sqrt(np.average((array -\n",
      "c:\\users\\nick\\appdata\\local\\programs\\python\\python39\\lib\\site-packages\\sklearn\\model_selection\\_search.py:929: RuntimeWarning: overflow encountered in square\n",
      "  array_stds = np.sqrt(np.average((array -\n"
     ]
    }
   ],
   "source": [
    "gb_params = {\n",
    "    'learning_rate': uniform(.0001, 50),\n",
    "    'n_estimators': [1, 10, 100, 1000],\n",
    "    'subsample': uniform(.1, 1),\n",
    "    'min_samples_split': uniform(0, .5),\n",
    "    'min_samples_leaf': uniform(0, .5),\n",
    "    'max_depth': uniform(2, 100),\n",
    "    'max_features': ['auto', 'sqrt', 'log2', uniform(0, 1)]\n",
    "}\n",
    "\n",
    "gb = RandomizedSearchCV(GradientBoostingRegressor(),\n",
    "                        gb_params,\n",
    "                        n_iter=200,\n",
    "                        cv=5,\n",
    "                        n_jobs=-1,\n",
    "                        verbose=True,\n",
    "                        random_state=7)\n",
    "\n",
    "gb.fit(X_train, y_train)\n",
    "add_results(gb, 'Gradient Boost')"
   ]
  },
  {
   "cell_type": "code",
   "execution_count": 11,
   "id": "2732ba0f",
   "metadata": {},
   "outputs": [
    {
     "data": {
      "text/html": [
       "<div>\n",
       "<style scoped>\n",
       "    .dataframe tbody tr th:only-of-type {\n",
       "        vertical-align: middle;\n",
       "    }\n",
       "\n",
       "    .dataframe tbody tr th {\n",
       "        vertical-align: top;\n",
       "    }\n",
       "\n",
       "    .dataframe thead th {\n",
       "        text-align: right;\n",
       "    }\n",
       "</style>\n",
       "<table border=\"1\" class=\"dataframe\">\n",
       "  <thead>\n",
       "    <tr style=\"text-align: right;\">\n",
       "      <th></th>\n",
       "      <th>train_accuracy</th>\n",
       "      <th>test_accuracy</th>\n",
       "      <th>rmse</th>\n",
       "      <th>best_params</th>\n",
       "    </tr>\n",
       "  </thead>\n",
       "  <tbody>\n",
       "    <tr>\n",
       "      <th>Linear Regression</th>\n",
       "      <td>0.4937</td>\n",
       "      <td>0.5040</td>\n",
       "      <td>62.34</td>\n",
       "      <td>N/A</td>\n",
       "    </tr>\n",
       "    <tr>\n",
       "      <th>Decision Tree</th>\n",
       "      <td>0.4419</td>\n",
       "      <td>0.4387</td>\n",
       "      <td>66.31</td>\n",
       "      <td>{'max_depth': 17.471665877901287, 'min_samples...</td>\n",
       "    </tr>\n",
       "    <tr>\n",
       "      <th>Gradient Boost</th>\n",
       "      <td>0.4250</td>\n",
       "      <td>0.4251</td>\n",
       "      <td>67.11</td>\n",
       "      <td>{'learning_rate': 0.440055535013975, 'max_dept...</td>\n",
       "    </tr>\n",
       "  </tbody>\n",
       "</table>\n",
       "</div>"
      ],
      "text/plain": [
       "                   train_accuracy  test_accuracy   rmse  \\\n",
       "Linear Regression          0.4937         0.5040  62.34   \n",
       "Decision Tree              0.4419         0.4387  66.31   \n",
       "Gradient Boost             0.4250         0.4251  67.11   \n",
       "\n",
       "                                                         best_params  \n",
       "Linear Regression                                                N/A  \n",
       "Decision Tree      {'max_depth': 17.471665877901287, 'min_samples...  \n",
       "Gradient Boost     {'learning_rate': 0.440055535013975, 'max_dept...  "
      ]
     },
     "execution_count": 11,
     "metadata": {},
     "output_type": "execute_result"
    }
   ],
   "source": [
    "compare_models"
   ]
  },
  {
   "cell_type": "markdown",
   "id": "ec66bde5",
   "metadata": {},
   "source": [
    "**Gradient Boost is even worse. I'm going the wrong way with these models. Let's try random forest**"
   ]
  },
  {
   "cell_type": "markdown",
   "id": "1720557c",
   "metadata": {},
   "source": [
    "### Random Forest"
   ]
  },
  {
   "cell_type": "code",
   "execution_count": 12,
   "id": "4f239741",
   "metadata": {},
   "outputs": [
    {
     "name": "stdout",
     "output_type": "stream",
     "text": [
      "Fitting 5 folds for each of 50 candidates, totalling 250 fits\n"
     ]
    },
    {
     "name": "stderr",
     "output_type": "stream",
     "text": [
      "c:\\users\\nick\\appdata\\local\\programs\\python\\python39\\lib\\site-packages\\sklearn\\model_selection\\_search.py:922: UserWarning: One or more of the test scores are non-finite: [-0.00485554  0.30846325         nan         nan         nan         nan\n",
      " -0.00492874  0.27404662 -0.01156059  0.15629256  0.16561464 -0.00420486\n",
      "  0.20604668  0.25426931         nan         nan         nan         nan\n",
      " -0.00401122         nan  0.20811523 -0.00493805         nan -0.00471584\n",
      "         nan -0.00503593 -0.00671458 -0.00496082 -0.0051414          nan\n",
      " -0.00390697  0.31950024  0.16313237         nan  0.35730533         nan\n",
      "         nan         nan         nan -0.0038319  -0.00687167 -0.0050054\n",
      " -0.00573988  0.23427293         nan         nan -0.00525201 -0.00692729\n",
      " -0.00480808  0.41265136]\n",
      "  warnings.warn(\n"
     ]
    }
   ],
   "source": [
    "rf_params = {\n",
    "    'max_depth': uniform(1, 100),\n",
    "    'max_features': ['auto', 'sqrt'],\n",
    "    'min_samples_split': uniform(0, 1),\n",
    "    'min_samples_leaf': uniform(0, 1),\n",
    "    'n_estimators': [1, 10, 100, 1000]\n",
    "}\n",
    "\n",
    "rf = RandomizedSearchCV(RandomForestRegressor(),\n",
    "                        rf_params,\n",
    "                        n_iter=50,\n",
    "                        cv=5,\n",
    "                        n_jobs=-1,\n",
    "                        verbose=True,\n",
    "                        random_state=7)\n",
    "\n",
    "rf.fit(X_train, y_train)\n",
    "add_results(rf, 'Random Forest')"
   ]
  },
  {
   "cell_type": "code",
   "execution_count": 13,
   "id": "f2b433af",
   "metadata": {},
   "outputs": [
    {
     "data": {
      "text/html": [
       "<div>\n",
       "<style scoped>\n",
       "    .dataframe tbody tr th:only-of-type {\n",
       "        vertical-align: middle;\n",
       "    }\n",
       "\n",
       "    .dataframe tbody tr th {\n",
       "        vertical-align: top;\n",
       "    }\n",
       "\n",
       "    .dataframe thead th {\n",
       "        text-align: right;\n",
       "    }\n",
       "</style>\n",
       "<table border=\"1\" class=\"dataframe\">\n",
       "  <thead>\n",
       "    <tr style=\"text-align: right;\">\n",
       "      <th></th>\n",
       "      <th>train_accuracy</th>\n",
       "      <th>test_accuracy</th>\n",
       "      <th>rmse</th>\n",
       "      <th>best_params</th>\n",
       "    </tr>\n",
       "  </thead>\n",
       "  <tbody>\n",
       "    <tr>\n",
       "      <th>Linear Regression</th>\n",
       "      <td>0.4937</td>\n",
       "      <td>0.5040</td>\n",
       "      <td>62.34</td>\n",
       "      <td>N/A</td>\n",
       "    </tr>\n",
       "    <tr>\n",
       "      <th>Decision Tree</th>\n",
       "      <td>0.4419</td>\n",
       "      <td>0.4387</td>\n",
       "      <td>66.31</td>\n",
       "      <td>{'max_depth': 17.471665877901287, 'min_samples...</td>\n",
       "    </tr>\n",
       "    <tr>\n",
       "      <th>Gradient Boost</th>\n",
       "      <td>0.4250</td>\n",
       "      <td>0.4251</td>\n",
       "      <td>67.11</td>\n",
       "      <td>{'learning_rate': 0.440055535013975, 'max_dept...</td>\n",
       "    </tr>\n",
       "    <tr>\n",
       "      <th>Random Forest</th>\n",
       "      <td>0.4819</td>\n",
       "      <td>0.4868</td>\n",
       "      <td>63.41</td>\n",
       "      <td>{'max_depth': 93.26031530779568, 'max_features...</td>\n",
       "    </tr>\n",
       "  </tbody>\n",
       "</table>\n",
       "</div>"
      ],
      "text/plain": [
       "                   train_accuracy  test_accuracy   rmse  \\\n",
       "Linear Regression          0.4937         0.5040  62.34   \n",
       "Decision Tree              0.4419         0.4387  66.31   \n",
       "Gradient Boost             0.4250         0.4251  67.11   \n",
       "Random Forest              0.4819         0.4868  63.41   \n",
       "\n",
       "                                                         best_params  \n",
       "Linear Regression                                                N/A  \n",
       "Decision Tree      {'max_depth': 17.471665877901287, 'min_samples...  \n",
       "Gradient Boost     {'learning_rate': 0.440055535013975, 'max_dept...  \n",
       "Random Forest      {'max_depth': 93.26031530779568, 'max_features...  "
      ]
     },
     "execution_count": 13,
     "metadata": {},
     "output_type": "execute_result"
    }
   ],
   "source": [
    "compare_models"
   ]
  },
  {
   "cell_type": "markdown",
   "id": "6e36911e",
   "metadata": {},
   "source": [
    "**Random forest is the second best model so far but these are all still not great. Lets move to building a neural network to really see if we can get over 50% and lower than 62.34 RMSE**"
   ]
  },
  {
   "cell_type": "markdown",
   "id": "0522d646",
   "metadata": {},
   "source": [
    "### Neural Network"
   ]
  },
  {
   "cell_type": "code",
   "execution_count": 14,
   "id": "14cdf1e3",
   "metadata": {},
   "outputs": [],
   "source": [
    "ss = StandardScaler()\n",
    "Xs_train = ss.fit_transform(X_train)\n",
    "Xs_test = ss.transform(X_test)"
   ]
  },
  {
   "cell_type": "code",
   "execution_count": 15,
   "id": "0ba342ee",
   "metadata": {},
   "outputs": [],
   "source": [
    "def model_func(layer_one_neurons=8, layer_two_neurons=8, dropout=0.2):\n",
    "    np.random.seed(7)\n",
    "    \n",
    "    nn_model = Sequential()\n",
    "    nn_model.add(Dense(26, input_shape=(26,), activation='relu'))\n",
    "    nn_model.add(Dropout(dropout))\n",
    "    nn_model.add(Dense(layer_one_neurons, activation='relu'))\n",
    "    nn_model.add(Dropout(dropout))\n",
    "    nn_model.add(Dropout(dropout))\n",
    "    nn_model.add(Dense(layer_two_neurons, activation='relu'))\n",
    "    nn_model.add(Dropout(dropout))\n",
    "    nn_model.add(Dense(1))\n",
    "\n",
    "    nn_model.compile(loss='mean_squared_error', optimizer='adam', metrics=['mse'])\n",
    "\n",
    "    return nn_model\n",
    "\n",
    "nn = KerasRegressor(build_fn=model_func, batch_size=16, epochs=100, verbose=0)\n",
    "\n",
    "params = {'layer_one_neurons': [8, 16, 32, 64, 200],\n",
    "         'layer_two_neurons': [8, 16, 32, 64, 200],\n",
    "         'batch_size': [1, 2, 4, 8, 16, 32],\n",
    "         'dropout': [0.1, 0.2, 0.3, 0.4, 0.5],\n",
    "         'epochs':[25, 50, 100, 200]}\n",
    "\n",
    "grid = RandomizedSearchCV(nn, params, n_iter=100, cv=3)"
   ]
  },
  {
   "cell_type": "code",
   "execution_count": 16,
   "id": "fb3563cb",
   "metadata": {},
   "outputs": [
    {
     "name": "stdout",
     "output_type": "stream",
     "text": [
      "Wall time: 0 ns\n"
     ]
    },
    {
     "data": {
      "text/plain": [
       "RandomizedSearchCV(cv=3,\n",
       "                   estimator=<keras.wrappers.scikit_learn.KerasRegressor object at 0x00000166B0934610>,\n",
       "                   n_iter=100,\n",
       "                   param_distributions={'batch_size': [1, 2, 4, 8, 16, 32],\n",
       "                                        'dropout': [0.1, 0.2, 0.3, 0.4, 0.5],\n",
       "                                        'epochs': [25, 50, 100, 200],\n",
       "                                        'layer_one_neurons': [8, 16, 32, 64,\n",
       "                                                              200],\n",
       "                                        'layer_two_neurons': [8, 16, 32, 64,\n",
       "                                                              200]})"
      ]
     },
     "execution_count": 16,
     "metadata": {},
     "output_type": "execute_result"
    }
   ],
   "source": [
    "%time\n",
    "grid.fit(Xs_train, y_train)"
   ]
  },
  {
   "cell_type": "code",
   "execution_count": 33,
   "id": "a45fd25a",
   "metadata": {},
   "outputs": [
    {
     "data": {
      "text/plain": [
       "{'layer_two_neurons': 64,\n",
       " 'layer_one_neurons': 200,\n",
       " 'epochs': 100,\n",
       " 'dropout': 0.3,\n",
       " 'batch_size': 8}"
      ]
     },
     "execution_count": 33,
     "metadata": {},
     "output_type": "execute_result"
    }
   ],
   "source": [
    "grid.best_params_"
   ]
  },
  {
   "cell_type": "code",
   "execution_count": 31,
   "id": "5435c14c",
   "metadata": {
    "scrolled": true
   },
   "outputs": [
    {
     "name": "stdout",
     "output_type": "stream",
     "text": [
      "Epoch 1/100\n",
      "129/129 [==============================] - 0s 934us/step - loss: 17153.9863 - mse: 17153.9863 - val_loss: 4442.8442 - val_mse: 4442.8442\n",
      "Epoch 2/100\n",
      "129/129 [==============================] - 0s 702us/step - loss: 6522.6514 - mse: 6522.6514 - val_loss: 4215.9106 - val_mse: 4215.9106\n",
      "Epoch 3/100\n",
      "129/129 [==============================] - 0s 581us/step - loss: 6303.5283 - mse: 6303.5283 - val_loss: 4025.0925 - val_mse: 4025.0925\n",
      "Epoch 4/100\n",
      "129/129 [==============================] - 0s 574us/step - loss: 5810.0796 - mse: 5810.0796 - val_loss: 4179.7886 - val_mse: 4179.7886\n",
      "Epoch 5/100\n",
      "129/129 [==============================] - 0s 584us/step - loss: 6342.6479 - mse: 6342.6479 - val_loss: 4215.3613 - val_mse: 4215.3613\n",
      "Epoch 6/100\n",
      "129/129 [==============================] - 0s 581us/step - loss: 6004.2222 - mse: 6004.2222 - val_loss: 3956.9365 - val_mse: 3956.9365\n",
      "Epoch 7/100\n",
      "129/129 [==============================] - 0s 586us/step - loss: 5989.0049 - mse: 5989.0049 - val_loss: 3924.9075 - val_mse: 3924.9075\n",
      "Epoch 8/100\n",
      "129/129 [==============================] - 0s 586us/step - loss: 5664.8047 - mse: 5664.8047 - val_loss: 4153.3394 - val_mse: 4153.3394\n",
      "Epoch 9/100\n",
      "129/129 [==============================] - 0s 625us/step - loss: 5573.1685 - mse: 5573.1685 - val_loss: 4050.1050 - val_mse: 4050.1050\n",
      "Epoch 10/100\n",
      "129/129 [==============================] - 0s 594us/step - loss: 5522.0117 - mse: 5522.0117 - val_loss: 4141.0913 - val_mse: 4141.0913\n",
      "Epoch 11/100\n",
      "129/129 [==============================] - 0s 594us/step - loss: 5414.5327 - mse: 5414.5327 - val_loss: 4199.9956 - val_mse: 4199.9956\n",
      "Epoch 12/100\n",
      "129/129 [==============================] - 0s 578us/step - loss: 5354.3760 - mse: 5354.3760 - val_loss: 3813.0862 - val_mse: 3813.0862\n",
      "Epoch 13/100\n",
      "129/129 [==============================] - 0s 576us/step - loss: 5650.8452 - mse: 5650.8452 - val_loss: 3891.3440 - val_mse: 3891.3440\n",
      "Epoch 14/100\n",
      "129/129 [==============================] - 0s 578us/step - loss: 5254.4639 - mse: 5254.4639 - val_loss: 3844.9656 - val_mse: 3844.9656\n",
      "Epoch 15/100\n",
      "129/129 [==============================] - 0s 587us/step - loss: 5121.0679 - mse: 5121.0679 - val_loss: 3904.7439 - val_mse: 3904.7439\n",
      "Epoch 16/100\n",
      "129/129 [==============================] - 0s 574us/step - loss: 5212.3320 - mse: 5212.3320 - val_loss: 3812.7517 - val_mse: 3812.7517\n",
      "Epoch 17/100\n",
      "129/129 [==============================] - 0s 578us/step - loss: 5505.3159 - mse: 5505.3159 - val_loss: 3867.3906 - val_mse: 3867.3906\n",
      "Epoch 18/100\n",
      "129/129 [==============================] - 0s 586us/step - loss: 5128.8740 - mse: 5128.8740 - val_loss: 3858.7046 - val_mse: 3858.7046\n",
      "Epoch 19/100\n",
      "129/129 [==============================] - 0s 602us/step - loss: 4893.8555 - mse: 4893.8555 - val_loss: 3849.2773 - val_mse: 3849.2773\n",
      "Epoch 20/100\n",
      "129/129 [==============================] - 0s 586us/step - loss: 5143.7544 - mse: 5143.7544 - val_loss: 3914.4993 - val_mse: 3914.4993\n",
      "Epoch 21/100\n",
      "129/129 [==============================] - 0s 586us/step - loss: 5222.2598 - mse: 5222.2598 - val_loss: 3914.1648 - val_mse: 3914.1648\n",
      "Epoch 22/100\n",
      "129/129 [==============================] - 0s 594us/step - loss: 5077.5200 - mse: 5077.5200 - val_loss: 3926.7461 - val_mse: 3926.7461\n",
      "Epoch 23/100\n",
      "129/129 [==============================] - 0s 583us/step - loss: 4978.3193 - mse: 4978.3193 - val_loss: 3906.3667 - val_mse: 3906.3667\n",
      "Epoch 24/100\n",
      "129/129 [==============================] - 0s 581us/step - loss: 5137.7554 - mse: 5137.7554 - val_loss: 4083.5315 - val_mse: 4083.5315\n",
      "Epoch 25/100\n",
      "129/129 [==============================] - 0s 568us/step - loss: 4812.7476 - mse: 4812.7476 - val_loss: 4139.3101 - val_mse: 4139.3101\n",
      "Epoch 26/100\n",
      "129/129 [==============================] - 0s 586us/step - loss: 4964.4795 - mse: 4964.4795 - val_loss: 3960.5383 - val_mse: 3960.5383\n",
      "Epoch 00026: early stopping\n"
     ]
    }
   ],
   "source": [
    "#predict with best model\n",
    "np.random.seed(7)\n",
    "best_params_model = Sequential()\n",
    "best_params_model.add(Dense(26, input_shape=(26,), activation='relu'))\n",
    "best_params_model.add(Dropout(0.3))\n",
    "best_params_model.add(Dense(64, activation='relu'))\n",
    "best_params_model.add(Dropout(0.3))\n",
    "best_params_model.add(Dropout(0.3))\n",
    "best_params_model.add(Dense(200, activation='relu'))\n",
    "best_params_model.add(Dropout(0.3))\n",
    "best_params_model.add(Dense(1))\n",
    "\n",
    "best_params_model.compile(loss='mean_squared_error', optimizer='adam', metrics=['mse'])\n",
    "early_stop = EarlyStopping(monitor='val_mse', min_delta=0, patience=10, verbose=1)\n",
    "history = best_params_model.fit(Xs_train, y_train, validation_data=(Xs_test, y_test), epochs=100, batch_size=8, verbose=1, callbacks=[early_stop])\n",
    "\n",
    "preds = best_params_model.predict(Xs_test)"
   ]
  },
  {
   "cell_type": "code",
   "execution_count": 38,
   "id": "304540f2",
   "metadata": {},
   "outputs": [
    {
     "data": {
      "image/png": "[encoded data removed]",
      "text/plain": [
       "<Figure size 432x288 with 1 Axes>"
      ]
     },
     "metadata": {
      "needs_background": "light"
     },
     "output_type": "display_data"
    }
   ],
   "source": [
    "plt.plot(history.history['mse'], label='Train MSE')\n",
    "plt.plot(history.history['val_mse'], label='Val MSE')\n",
    "plt.legend();"
   ]
  },
  {
   "cell_type": "code",
   "execution_count": 35,
   "id": "16535465",
   "metadata": {
    "scrolled": true
   },
   "outputs": [
    {
     "data": {
      "text/plain": [
       "61.747483422277014"
      ]
     },
     "execution_count": 35,
     "metadata": {},
     "output_type": "execute_result"
    }
   ],
   "source": [
    "np.sqrt(min(history.history['val_mse']))"
   ]
  },
  {
   "cell_type": "markdown",
   "id": "ce686de8",
   "metadata": {},
   "source": [
    "**The nerual network gave us our best RMSE of 61.74. However,it's still not that much better than linear regression.**"
   ]
  },
  {
   "cell_type": "markdown",
   "id": "19d55c10",
   "metadata": {},
   "source": [
    "Lets try and see our RMSEs by position"
   ]
  },
  {
   "cell_type": "code",
   "execution_count": 36,
   "id": "f717b8c9",
   "metadata": {},
   "outputs": [],
   "source": [
    "original_df = pd.read_csv('gathered_data.csv')\n",
    "positional_preds_df = original_df[['Player', 'FantPos']]\n",
    "preds_df = pd.DataFrame(y_test).merge(positional_preds_df, on='Player', how='left')\n",
    "positional_preds_df = pd.DataFrame({'Player': preds_df['Player'],\n",
    "                                    'Position': preds_df['FantPos'],\n",
    "                                    'Actual_Points':preds_df['Final_PPR_Score'],\n",
    "                                    'Predicted_Points': [x[0] for x in preds]})"
   ]
  },
  {
   "cell_type": "code",
   "execution_count": 37,
   "id": "5491ff5f",
   "metadata": {},
   "outputs": [
    {
     "name": "stdout",
     "output_type": "stream",
     "text": [
      "QB RMSE: 75.8686737956309\n",
      "RB RMSE: 61.07556562314362\n",
      "WR RMSE: 62.77588566115266\n",
      "TE RMSE: 55.35261748944908\n"
     ]
    }
   ],
   "source": [
    "for pos in ['QB', 'RB', 'WR', 'TE']:\n",
    "    pos_df = positional_preds_df[positional_preds_df['Position'] == pos]\n",
    "    pos_rmse = metrics.mean_squared_error(pos_df['Actual_Points'], pos_df['Predicted_Points'], squared=False)\n",
    "    print(f'{pos} RMSE: {pos_rmse}')"
   ]
  },
  {
   "cell_type": "markdown",
   "id": "4291301d",
   "metadata": {},
   "source": [
    "**Interesting that our QB RMSE was far higher than any other position. I think thats because QB stats are sort of in a world of their own, they dont relate with any of the other positions wheras RBs, WRs, and TEs all have similar stats. I think if I was doing this over I would model QBs seperately**"
   ]
  }
 ],
 "metadata": {
  "kernelspec": {
   "display_name": "Python 3 (ipykernel)",
   "language": "python",
   "name": "python3"
  },
  "language_info": {
   "codemirror_mode": {
    "name": "ipython",
    "version": 3
   },
   "file_extension": ".py",
   "mimetype": "text/x-python",
   "name": "python",
   "nbconvert_exporter": "python",
   "pygments_lexer": "ipython3",
   "version": "3.9.6"
  }
 },
 "nbformat": 4,
 "nbformat_minor": 5
}
