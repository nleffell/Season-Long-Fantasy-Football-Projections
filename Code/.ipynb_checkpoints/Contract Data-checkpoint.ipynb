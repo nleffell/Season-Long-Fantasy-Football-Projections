{
 "cells": [
  {
   "cell_type": "code",
   "execution_count": 1,
   "id": "1290d580",
   "metadata": {},
   "outputs": [],
   "source": [
    "import pandas as pd\n",
    "import numpy as np\n",
    "import requests as re\n",
    "from bs4 import BeautifulSoup\n",
    "import time"
   ]
  },
  {
   "cell_type": "code",
   "execution_count": 2,
   "id": "4767ca2e",
   "metadata": {},
   "outputs": [],
   "source": [
    "pd.options.mode.chained_assignment = None  # default='warn'"
   ]
  },
  {
   "cell_type": "code",
   "execution_count": 19,
   "id": "c21a85cd",
   "metadata": {},
   "outputs": [],
   "source": [
    "main_data = pd.read_csv('gathered_data.csv')\n",
    "player_names = [x[:-5] for x in main_data['Player'].tolist()]"
   ]
  },
  {
   "cell_type": "code",
   "execution_count": 33,
   "id": "b10a3983",
   "metadata": {},
   "outputs": [],
   "source": [
    "positions = ['quarterback', 'running-back', 'wide-receiver', 'tight-end', 'fullback']\n",
    "player_link_list = []\n",
    "for pos in positions:\n",
    "    r = re.get(f'https://overthecap.com/contract-history/{pos}/')\n",
    "    soup = BeautifulSoup(r.content, 'html.parser')\n",
    "    table = soup.find_all('table')[0]\n",
    "    for anchor in table.find_all('a'):\n",
    "        if 'player' in anchor['href']:\n",
    "            link = anchor['href']\n",
    "            name = ''.join(i for i in anchor.text if i.isalnum() or i == ' ') \n",
    "            player_link_list.append([link, name])\n",
    "df = pd.DataFrame(player_link_list, columns=['Link', 'Player'])\n",
    "\n",
    "#There are a few name differences, so replace those\n",
    "name_diffs = {'Buck Allen':'Javorius Allen', 'Matt Stafford':'Matthew Stafford', 'Rob Kelley':'Robert Kelley'}\n",
    "df['Player'] = df['Player'].map(lambda x: name_diffs[x] if x in name_diffs.keys() else x)\n",
    "\n",
    "df.drop_duplicates(subset='Player', inplace=True)\n",
    "\n",
    "#we only want the players in our current dataset\n",
    "df = df[df['Player'].isin(player_names)]"
   ]
  },
  {
   "cell_type": "code",
   "execution_count": 1,
   "id": "9cd504eb",
   "metadata": {
    "scrolled": true
   },
   "outputs": [],
   "source": [
    "years = list(range(2014, 2020))\n",
    "player_salaries_list = []\n",
    "for value in df.values:\n",
    "    for year in years:\n",
    "        try:\n",
    "            r = re.get(f'https://overthecap.com{value[0]}')\n",
    "            soup = BeautifulSoup(r.content, 'html.parser')\n",
    "            table = soup.find_all('table')[2]\n",
    "            salary_df = pd.read_html(str(table))[0]\n",
    "            if 'CapNumber' not in salary_df.columns:    #CapNumber is the column with salary info that I want\n",
    "                table = soup.find_all('table')[4]\n",
    "                salary_df = pd.read_html(str(table))[0]\n",
    "            if str(year) not in salary_df['Year'].values:    #if the player wasnt playing in a given year, ignore\n",
    "                continue\n",
    "            salary = salary_df[salary_df['Year']==str(year)]['CapNumber'].to_string().split('$')[1]  #clean salary data string\n",
    "            salary = ''.join(i for i in salary if i.isalnum())  #clean salary data string\n",
    "            player_salaries_list.append([salary, f'{value[1]} {year}'])\n",
    "        except:\n",
    "            print(value)\n",
    "            continue\n",
    "salaries_df = pd.DataFrame(player_salaries_list, columns=['Salary', 'Player'])"
   ]
  },
  {
   "cell_type": "code",
   "execution_count": 43,
   "id": "dbcb445e",
   "metadata": {},
   "outputs": [],
   "source": [
    "salaries_df.to_csv('salaries_data.csv', index=False)"
   ]
  },
  {
   "cell_type": "code",
   "execution_count": 44,
   "id": "81d71577",
   "metadata": {},
   "outputs": [],
   "source": [
    "salaries_df = pd.read_csv('salaries_data.csv')"
   ]
  },
  {
   "cell_type": "code",
   "execution_count": 50,
   "id": "7bc7091d",
   "metadata": {},
   "outputs": [
    {
     "data": {
      "text/html": [
       "<div>\n",
       "<style scoped>\n",
       "    .dataframe tbody tr th:only-of-type {\n",
       "        vertical-align: middle;\n",
       "    }\n",
       "\n",
       "    .dataframe tbody tr th {\n",
       "        vertical-align: top;\n",
       "    }\n",
       "\n",
       "    .dataframe thead th {\n",
       "        text-align: right;\n",
       "    }\n",
       "</style>\n",
       "<table border=\"1\" class=\"dataframe\">\n",
       "  <thead>\n",
       "    <tr style=\"text-align: right;\">\n",
       "      <th></th>\n",
       "      <th>Salary</th>\n",
       "      <th>Player</th>\n",
       "    </tr>\n",
       "  </thead>\n",
       "  <tbody>\n",
       "    <tr>\n",
       "      <th>0</th>\n",
       "      <td>3851461</td>\n",
       "      <td>Josh Allen 2018</td>\n",
       "    </tr>\n",
       "    <tr>\n",
       "      <th>1</th>\n",
       "      <td>4814326</td>\n",
       "      <td>Josh Allen 2019</td>\n",
       "    </tr>\n",
       "    <tr>\n",
       "      <th>2</th>\n",
       "      <td>2986538</td>\n",
       "      <td>Patrick Mahomes 2017</td>\n",
       "    </tr>\n",
       "    <tr>\n",
       "      <th>3</th>\n",
       "      <td>3733173</td>\n",
       "      <td>Patrick Mahomes 2018</td>\n",
       "    </tr>\n",
       "    <tr>\n",
       "      <th>4</th>\n",
       "      <td>4479808</td>\n",
       "      <td>Patrick Mahomes 2019</td>\n",
       "    </tr>\n",
       "    <tr>\n",
       "      <th>...</th>\n",
       "      <td>...</td>\n",
       "      <td>...</td>\n",
       "    </tr>\n",
       "    <tr>\n",
       "      <th>2098</th>\n",
       "      <td>1375000</td>\n",
       "      <td>James Develin 2017</td>\n",
       "    </tr>\n",
       "    <tr>\n",
       "      <th>2099</th>\n",
       "      <td>1675000</td>\n",
       "      <td>James Develin 2018</td>\n",
       "    </tr>\n",
       "    <tr>\n",
       "      <th>2100</th>\n",
       "      <td>1600000</td>\n",
       "      <td>James Develin 2019</td>\n",
       "    </tr>\n",
       "    <tr>\n",
       "      <th>2101</th>\n",
       "      <td>1367708</td>\n",
       "      <td>Darrel Young 2014</td>\n",
       "    </tr>\n",
       "    <tr>\n",
       "      <th>2102</th>\n",
       "      <td>1533334</td>\n",
       "      <td>Darrel Young 2015</td>\n",
       "    </tr>\n",
       "  </tbody>\n",
       "</table>\n",
       "<p>2103 rows × 2 columns</p>\n",
       "</div>"
      ],
      "text/plain": [
       "       Salary                Player\n",
       "0     3851461       Josh Allen 2018\n",
       "1     4814326       Josh Allen 2019\n",
       "2     2986538  Patrick Mahomes 2017\n",
       "3     3733173  Patrick Mahomes 2018\n",
       "4     4479808  Patrick Mahomes 2019\n",
       "...       ...                   ...\n",
       "2098  1375000    James Develin 2017\n",
       "2099  1675000    James Develin 2018\n",
       "2100  1600000    James Develin 2019\n",
       "2101  1367708     Darrel Young 2014\n",
       "2102  1533334     Darrel Young 2015\n",
       "\n",
       "[2103 rows x 2 columns]"
      ]
     },
     "execution_count": 50,
     "metadata": {},
     "output_type": "execute_result"
    }
   ],
   "source": [
    "salaries_df"
   ]
  },
  {
   "cell_type": "code",
   "execution_count": 48,
   "id": "a31ebf8c",
   "metadata": {},
   "outputs": [],
   "source": [
    "# #testing purposes\n",
    "# r = re.get(f'https://overthecap.com/player/josh-allen/6892/')\n",
    "# soup = BeautifulSoup(r.content, 'html.parser')\n",
    "# table = soup.find_all('table')[2]\n",
    "# salary_df = pd.read_html(str(table))[0]\n",
    "# if 'CapNumber' not in salary_df.columns:\n",
    "#     table = soup.find_all('table')[4]\n",
    "#     salary_df = pd.read_html(str(table))[0]\n",
    "# salary = salary_df[salary_df['Year']==str(year)]['CapNumber'].to_string().split('$')[1]\n",
    "# salary = ''.join(i for i in salary if i.isalnum())\n",
    "# salary"
   ]
  }
 ],
 "metadata": {
  "kernelspec": {
   "display_name": "Python 3 (ipykernel)",
   "language": "python",
   "name": "python3"
  },
  "language_info": {
   "codemirror_mode": {
    "name": "ipython",
    "version": 3
   },
   "file_extension": ".py",
   "mimetype": "text/x-python",
   "name": "python",
   "nbconvert_exporter": "python",
   "pygments_lexer": "ipython3",
   "version": "3.9.6"
  }
 },
 "nbformat": 4,
 "nbformat_minor": 5
}
