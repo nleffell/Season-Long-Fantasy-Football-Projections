{
 "cells": [
  {
   "cell_type": "code",
   "execution_count": 42,
   "id": "558c65d8",
   "metadata": {},
   "outputs": [],
   "source": [
    "import pandas as pd\n",
    "import requests as re\n",
    "from bs4 import BeautifulSoup\n",
    "from sklearn import metrics"
   ]
  },
  {
   "cell_type": "code",
   "execution_count": 34,
   "id": "8ae101cd",
   "metadata": {},
   "outputs": [],
   "source": [
    "clay_df = pd.read_csv('mike clay projections 2019.csv', names=['Player', 'Clay_Projection'])\n",
    "clay_df['Player'] = clay_df['Player'].map(lambda x: ''.join(i for i in x if i.isalnum() or i == ' '))"
   ]
  },
  {
   "cell_type": "code",
   "execution_count": 35,
   "id": "410ea956",
   "metadata": {},
   "outputs": [],
   "source": [
    "def get_stats(year):\n",
    "    r = re.get(f'https://www.pro-football-reference.com/years/{year}/fantasy.htm')\n",
    "    soup = BeautifulSoup(r.content, 'html.parser')\n",
    "    table = soup.find_all('table')[0]  \n",
    "    df = pd.read_html(str(table))[0]\n",
    "    \n",
    "    #drop top level column names (there are 2 rows of columns headers)\n",
    "    df.columns = df.columns.droplevel(0)\n",
    "    \n",
    "    #remove bogus entires where Player is equal to 'Player'\n",
    "    df = df[df['Player'] != 'Player'] \n",
    "    \n",
    "    #replace nuls with 0s\n",
    "    df.fillna(0, inplace=True)\n",
    "    \n",
    "    df = df[['Player', 'PPR']]\n",
    "    df['PPR'] = df['PPR'].astype(float)\n",
    "   \n",
    "    #remove non letter characters from names, add the year we are predicting for (so year + 1) to differeniate between\n",
    "    # players that appear more than once in this dataset\n",
    "    df['Player'] = df['Player'].map(lambda x: ''.join(i for i in x if i.isalnum() or i == ' '))\n",
    "        \n",
    "    #take only top 300 fantasy players\n",
    "    df = df.sort_values(by='PPR', ascending=False)\n",
    "    df = df[:300]\n",
    "    \n",
    "    #remove any duplicates, there were 3 extra rows when we concatenated, luckily no one with the same name is in the top 300\n",
    "    df.drop_duplicates(subset=['Player'], inplace=True)\n",
    "      \n",
    "    return df"
   ]
  },
  {
   "cell_type": "code",
   "execution_count": 45,
   "id": "0222fe3d",
   "metadata": {},
   "outputs": [],
   "source": [
    "df = get_stats(2019).merge(clay_df, on='Player', how='left')\n",
    "df.dropna(inplace=True)"
   ]
  },
  {
   "cell_type": "code",
   "execution_count": 46,
   "id": "db9dad3e",
   "metadata": {},
   "outputs": [
    {
     "data": {
      "text/html": [
       "<div>\n",
       "<style scoped>\n",
       "    .dataframe tbody tr th:only-of-type {\n",
       "        vertical-align: middle;\n",
       "    }\n",
       "\n",
       "    .dataframe tbody tr th {\n",
       "        vertical-align: top;\n",
       "    }\n",
       "\n",
       "    .dataframe thead th {\n",
       "        text-align: right;\n",
       "    }\n",
       "</style>\n",
       "<table border=\"1\" class=\"dataframe\">\n",
       "  <thead>\n",
       "    <tr style=\"text-align: right;\">\n",
       "      <th></th>\n",
       "      <th>Player</th>\n",
       "      <th>PPR</th>\n",
       "      <th>Clay_Projection</th>\n",
       "    </tr>\n",
       "  </thead>\n",
       "  <tbody>\n",
       "    <tr>\n",
       "      <th>0</th>\n",
       "      <td>Christian McCaffrey</td>\n",
       "      <td>471.2</td>\n",
       "      <td>339.0</td>\n",
       "    </tr>\n",
       "    <tr>\n",
       "      <th>1</th>\n",
       "      <td>Lamar Jackson</td>\n",
       "      <td>415.7</td>\n",
       "      <td>269.0</td>\n",
       "    </tr>\n",
       "    <tr>\n",
       "      <th>2</th>\n",
       "      <td>Michael Thomas</td>\n",
       "      <td>374.6</td>\n",
       "      <td>292.0</td>\n",
       "    </tr>\n",
       "    <tr>\n",
       "      <th>3</th>\n",
       "      <td>Dak Prescott</td>\n",
       "      <td>337.8</td>\n",
       "      <td>298.0</td>\n",
       "    </tr>\n",
       "    <tr>\n",
       "      <th>4</th>\n",
       "      <td>Russell Wilson</td>\n",
       "      <td>328.6</td>\n",
       "      <td>279.0</td>\n",
       "    </tr>\n",
       "    <tr>\n",
       "      <th>5</th>\n",
       "      <td>Deshaun Watson</td>\n",
       "      <td>321.0</td>\n",
       "      <td>329.0</td>\n",
       "    </tr>\n",
       "    <tr>\n",
       "      <th>6</th>\n",
       "      <td>Aaron Jones</td>\n",
       "      <td>314.8</td>\n",
       "      <td>230.0</td>\n",
       "    </tr>\n",
       "    <tr>\n",
       "      <th>7</th>\n",
       "      <td>Ezekiel Elliott</td>\n",
       "      <td>311.7</td>\n",
       "      <td>340.0</td>\n",
       "    </tr>\n",
       "    <tr>\n",
       "      <th>8</th>\n",
       "      <td>Austin Ekeler</td>\n",
       "      <td>309.0</td>\n",
       "      <td>167.0</td>\n",
       "    </tr>\n",
       "    <tr>\n",
       "      <th>9</th>\n",
       "      <td>Jameis Winston</td>\n",
       "      <td>305.4</td>\n",
       "      <td>272.0</td>\n",
       "    </tr>\n",
       "  </tbody>\n",
       "</table>\n",
       "</div>"
      ],
      "text/plain": [
       "                Player    PPR  Clay_Projection\n",
       "0  Christian McCaffrey  471.2            339.0\n",
       "1        Lamar Jackson  415.7            269.0\n",
       "2       Michael Thomas  374.6            292.0\n",
       "3         Dak Prescott  337.8            298.0\n",
       "4       Russell Wilson  328.6            279.0\n",
       "5       Deshaun Watson  321.0            329.0\n",
       "6          Aaron Jones  314.8            230.0\n",
       "7      Ezekiel Elliott  311.7            340.0\n",
       "8        Austin Ekeler  309.0            167.0\n",
       "9       Jameis Winston  305.4            272.0"
      ]
     },
     "execution_count": 46,
     "metadata": {},
     "output_type": "execute_result"
    }
   ],
   "source": [
    "df.head(10)"
   ]
  },
  {
   "cell_type": "code",
   "execution_count": 43,
   "id": "4130876b",
   "metadata": {},
   "outputs": [
    {
     "data": {
      "text/plain": [
       "59.764724570856195"
      ]
     },
     "execution_count": 43,
     "metadata": {},
     "output_type": "execute_result"
    }
   ],
   "source": [
    "metrics.mean_squared_error(df['PPR'], df['Clay_Projection'], squared=False)"
   ]
  },
  {
   "cell_type": "markdown",
   "id": "1a1f298a",
   "metadata": {},
   "source": [
    "**Mike Clay's RMSE was 59.76 for the 2019 season**"
   ]
  }
 ],
 "metadata": {
  "kernelspec": {
   "display_name": "Python 3 (ipykernel)",
   "language": "python",
   "name": "python3"
  },
  "language_info": {
   "codemirror_mode": {
    "name": "ipython",
    "version": 3
   },
   "file_extension": ".py",
   "mimetype": "text/x-python",
   "name": "python",
   "nbconvert_exporter": "python",
   "pygments_lexer": "ipython3",
   "version": "3.9.6"
  }
 },
 "nbformat": 4,
 "nbformat_minor": 5
}
