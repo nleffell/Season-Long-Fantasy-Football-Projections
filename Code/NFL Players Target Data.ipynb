{
 "cells": [
  {
   "cell_type": "code",
   "execution_count": 1,
   "id": "14549fbe",
   "metadata": {},
   "outputs": [],
   "source": [
    "import pandas as pd\n",
    "import numpy as np\n",
    "import requests as re\n",
    "from bs4 import BeautifulSoup"
   ]
  },
  {
   "cell_type": "code",
   "execution_count": 2,
   "id": "20d470b1",
   "metadata": {},
   "outputs": [],
   "source": [
    "pd.options.mode.chained_assignment = None  # default='warn'"
   ]
  },
  {
   "cell_type": "code",
   "execution_count": 37,
   "id": "8d870718",
   "metadata": {},
   "outputs": [],
   "source": [
    "def weekly_target_percentages(targets, column):\n",
    "    try:\n",
    "        total_targets = df[column].sum()\n",
    "        value = round(targets / total_targets, 4)\n",
    "    except:\n",
    "        value = targets\n",
    "    return value"
   ]
  },
  {
   "cell_type": "code",
   "execution_count": 146,
   "id": "fb276af0",
   "metadata": {},
   "outputs": [],
   "source": [
    "teams = ['rav', 'buf', 'cin', 'cle', 'den', 'htx', 'clt', 'jax', 'kan', 'sdg', 'rai', 'mia', 'nwe', 'nyj', 'pit', 'oti',\n",
    "        'crd', 'atl', 'car', 'chi', 'dal', 'det', 'gnb', 'ram', 'min', 'nor', 'nyg', 'phi', 'sea', 'sfo', 'tam', 'was']\n",
    "years = [2013, 2014, 2015, 2016, 2017, 2018]\n",
    "weeks = [str(x) for x in range(1,18)] #17 weeks in a regular season\n",
    "df_list = []\n",
    "for team in teams:\n",
    "    for year in years:\n",
    "        r = re.get(f'https://footballguys.com/subscribers/teams/teampage-{team}-2.php')\n",
    "        soup = BeautifulSoup(r.content, 'html.parser')\n",
    "        table = soup.select_one(f'h2:-soup-contains(\"{str(year)}\") + table')\n",
    "        df = pd.read_html(str(table))[0]\n",
    "        \n",
    "        df = df[~df['Player'].isin(['WR TOTAL', 'TE TOTAL', 'RB TOTAL'])]   #we dont want these uncessary rows\n",
    "        df['Player'] = df['Player'].map(lambda x: x + ' ' + str(year + 1)) #match player format with main df\n",
    "        df['tgt_per_game'] = round(df[weeks].sum(axis=1) / df[weeks].count(axis=1), 4)\n",
    "        for col in weeks:\n",
    "            df[col] = df[col].map(lambda x: weekly_target_percentages(x, col))\n",
    "        df['tgt_pct_per_game'] = round(df[weeks].sum(axis=1) / df[weeks].count(axis=1), 4)\n",
    "        df = df[['Player', 'tgt_per_game', 'tgt_pct_per_game']]\n",
    "        \n",
    "        df_list.append(df)\n",
    "df = pd.concat(df_list)\n",
    "df = df.groupby('Player').mean()\n",
    "df.reset_index(inplace=True)"
   ]
  },
  {
   "cell_type": "code",
   "execution_count": 147,
   "id": "b7a88cf1",
   "metadata": {},
   "outputs": [],
   "source": [
    "df.to_csv('player_target_per_game_stats.csv', index=False)"
   ]
  },
  {
   "cell_type": "code",
   "execution_count": 148,
   "id": "9ad11b8b",
   "metadata": {},
   "outputs": [
    {
     "data": {
      "text/html": [
       "<div>\n",
       "<style scoped>\n",
       "    .dataframe tbody tr th:only-of-type {\n",
       "        vertical-align: middle;\n",
       "    }\n",
       "\n",
       "    .dataframe tbody tr th {\n",
       "        vertical-align: top;\n",
       "    }\n",
       "\n",
       "    .dataframe thead th {\n",
       "        text-align: right;\n",
       "    }\n",
       "</style>\n",
       "<table border=\"1\" class=\"dataframe\">\n",
       "  <thead>\n",
       "    <tr style=\"text-align: right;\">\n",
       "      <th></th>\n",
       "      <th>Player</th>\n",
       "      <th>tgt_per_game</th>\n",
       "      <th>tgt_pct_per_game</th>\n",
       "    </tr>\n",
       "  </thead>\n",
       "  <tbody>\n",
       "    <tr>\n",
       "      <th>0</th>\n",
       "      <td>A.J. Derby 2017</td>\n",
       "      <td>1.66665</td>\n",
       "      <td>0.04330</td>\n",
       "    </tr>\n",
       "    <tr>\n",
       "      <th>1</th>\n",
       "      <td>A.J. Derby 2018</td>\n",
       "      <td>3.97220</td>\n",
       "      <td>0.10895</td>\n",
       "    </tr>\n",
       "    <tr>\n",
       "      <th>2</th>\n",
       "      <td>A.J. Derby 2019</td>\n",
       "      <td>1.25000</td>\n",
       "      <td>0.04610</td>\n",
       "    </tr>\n",
       "    <tr>\n",
       "      <th>3</th>\n",
       "      <td>A.J. Green 2014</td>\n",
       "      <td>11.12500</td>\n",
       "      <td>0.30150</td>\n",
       "    </tr>\n",
       "    <tr>\n",
       "      <th>4</th>\n",
       "      <td>A.J. Green 2015</td>\n",
       "      <td>8.92310</td>\n",
       "      <td>0.29290</td>\n",
       "    </tr>\n",
       "  </tbody>\n",
       "</table>\n",
       "</div>"
      ],
      "text/plain": [
       "            Player  tgt_per_game  tgt_pct_per_game\n",
       "0  A.J. Derby 2017       1.66665           0.04330\n",
       "1  A.J. Derby 2018       3.97220           0.10895\n",
       "2  A.J. Derby 2019       1.25000           0.04610\n",
       "3  A.J. Green 2014      11.12500           0.30150\n",
       "4  A.J. Green 2015       8.92310           0.29290"
      ]
     },
     "execution_count": 148,
     "metadata": {},
     "output_type": "execute_result"
    }
   ],
   "source": [
    "df = pd.read_csv('player_target_per_game_stats.csv')\n",
    "df.head()"
   ]
  },
  {
   "cell_type": "code",
   "execution_count": 114,
   "id": "ca2c76bf",
   "metadata": {},
   "outputs": [],
   "source": [
    "# # used for testing purposes so I didnt query the website too much\n",
    "# team = 'cle'\n",
    "# year = 2013\n",
    "# weeks = [str(x) for x in range(1,18)] #17 weeks in a regular season\n",
    "# df_list = []\n",
    "# r = re.get(f'https://footballguys.com/subscribers/teams/teampage-{team}-2.php')\n",
    "# soup = BeautifulSoup(r.content, 'html.parser')\n",
    "# table = soup.select_one(f'h2:-soup-contains(\"{str(year)}\") + table')\n",
    "# df = pd.read_html(str(table))[0]\n",
    "# df = df[~df['Player'].isin(['WR TOTAL', 'TE TOTAL', 'RB TOTAL'])]\n",
    "# df['Player'] = df['Player'].map(lambda x: x + ' ' + str(year + 1)) #match player format with main df\n",
    "# df['tgt_per_game'] = round(df[weeks].sum(axis=1) / df[weeks].count(axis=1), 4)\n",
    "# for col in weeks:\n",
    "#     df[col] = df[col].map(lambda x: weekly_target_percentages(x, col))\n",
    "# df['tgt_pct_per_game'] = round(df[weeks].sum(axis=1) / df[weeks].count(axis=1), 4)\n",
    "# df = df[['Player', 'tgt_per_game', 'tgt_pct_per_game']]\n",
    "# df"
   ]
  }
 ],
 "metadata": {
  "kernelspec": {
   "display_name": "Python 3 (ipykernel)",
   "language": "python",
   "name": "python3"
  },
  "language_info": {
   "codemirror_mode": {
    "name": "ipython",
    "version": 3
   },
   "file_extension": ".py",
   "mimetype": "text/x-python",
   "name": "python",
   "nbconvert_exporter": "python",
   "pygments_lexer": "ipython3",
   "version": "3.9.6"
  }
 },
 "nbformat": 4,
 "nbformat_minor": 5
}
